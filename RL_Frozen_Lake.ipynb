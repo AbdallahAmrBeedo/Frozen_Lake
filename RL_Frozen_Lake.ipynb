{
  "nbformat": 4,
  "nbformat_minor": 0,
  "metadata": {
    "colab": {
      "provenance": [],
      "collapsed_sections": []
    },
    "kernelspec": {
      "name": "python3",
      "display_name": "Python 3"
    },
    "language_info": {
      "name": "python"
    }
  },
  "cells": [
    {
      "cell_type": "code",
      "metadata": {
        "id": "BB6CjtY3Zn1E"
      },
      "source": [
        "import numpy as np\n",
        "import gym\n",
        "import random\n",
        "from IPython.display import clear_output\n",
        "from time import sleep as sleep\n",
        "import matplotlib.pyplot as plt"
      ],
      "execution_count": null,
      "outputs": []
    },
    {
      "cell_type": "code",
      "metadata": {
        "id": "BfLIJV-RZtRZ"
      },
      "source": [
        "env = gym.make(\"FrozenLake8x8-v0\",is_slippery=True) #making environment (slippery property to add ranomness to the problem (stochastic))"
      ],
      "execution_count": null,
      "outputs": []
    },
    {
      "cell_type": "code",
      "metadata": {
        "id": "QN6j7y_QZxL_",
        "colab": {
          "base_uri": "https://localhost:8080/"
        },
        "outputId": "2367dddc-de3d-45f3-e922-c619889e8a91"
      },
      "source": [
        "#no. of actions and states\n",
        "n_actions = env.action_space.n\n",
        "n_states = env.observation_space.n\n",
        "n_actions, n_states "
      ],
      "execution_count": null,
      "outputs": [
        {
          "output_type": "execute_result",
          "data": {
            "text/plain": [
              "(4, 64)"
            ]
          },
          "metadata": {},
          "execution_count": 26
        }
      ]
    },
    {
      "cell_type": "code",
      "metadata": {
        "id": "UhdftvBvZ4Bd"
      },
      "source": [
        "#defining hyperparameters \n",
        "n_episodes = 10000\n",
        "learning_rates = np.arange(0.01,0.25,0.01)\n",
        "reward_per_la = []\n",
        "max_steps = 275\n",
        "gamma = 1.0\n",
        "epsilon = 1.0\n",
        "max_epsilon = 1.0\n",
        "min_epsilon = 0.01\n",
        "decay = 0.006"
      ],
      "execution_count": null,
      "outputs": []
    },
    {
      "cell_type": "code",
      "metadata": {
        "id": "hjheJHvqZ0Qs"
      },
      "source": [
        "q_table = np.zeros((n_states,n_actions))\n",
        "# making our q_table"
      ],
      "execution_count": null,
      "outputs": []
    },
    {
      "cell_type": "code",
      "metadata": {
        "colab": {
          "base_uri": "https://localhost:8080/"
        },
        "id": "7PbeccbeaMZp",
        "outputId": "737ee530-5129-4ccb-9458-0238e2db060c"
      },
      "source": [
        "#Training the agent on the environment for 10,000 episodes\n",
        "learning_rate = 0.06\n",
        "rewards = []\n",
        "rewards_thousands = []\n",
        "rewards_per_hundred = []\n",
        "for episode in range(n_episodes+1):\n",
        "    state = env.reset()\n",
        "    step = 0\n",
        "    done = False\n",
        "    total_rewards = 0\n",
        "    total_rewards_thousands = 0\n",
        "    \n",
        "    for step in range(max_steps):\n",
        "        e_e_tradeoff = random.uniform(0,1)\n",
        "\n",
        "        if(e_e_tradeoff >= epsilon): # depending on random variable e_e_tradeoff we make our decision to exploit of explore (probability to explore approches 0 as training reach the end)\n",
        "            action  = np.argmax(q_table[state,:])\n",
        "        else:\n",
        "            action = env.action_space.sample()\n",
        "\n",
        "        new_state, reward, done, info  = env.step(action)\n",
        "        #reward = 0 if cell is F, -10 if cell is H, 10 if cell is G\n",
        "        if reward == 0 and done == True:\n",
        "            q_table[state,action] = q_table[state,action] + learning_rate * ((reward-10) + gamma * np.max(q_table[new_state,:]) - q_table[state,action]);\n",
        "        elif reward == 1 and done == True:\n",
        "            q_table[state,action] = q_table[state,action] + learning_rate * ((reward+9) + gamma * np.max(q_table[new_state,:]) - q_table[state,action]);\n",
        "        else:\n",
        "            q_table[state,action] = q_table[state,action] + learning_rate * ((reward) + gamma * np.max(q_table[new_state,:]) - q_table[state,action]);\n",
        "        \n",
        "        total_rewards += reward\n",
        "        total_rewards_thousands += reward\n",
        "\n",
        "        state = new_state\n",
        "\n",
        "        if(done == True):\n",
        "            break\n",
        "            \n",
        "    epsilon = min_epsilon + (max_epsilon - min_epsilon)*np.exp(-decay*episode) #epsilon decreases to make the agent exploit\n",
        "    rewards.append(total_rewards)\n",
        "    rewards_thousands.append(total_rewards_thousands)\n",
        "    if episode % 100 == 0:\n",
        "      reward_per_thousands = sum(rewards_thousands)/100\n",
        "      print(f\"Score over {episode} episode: \" + str(reward_per_thousands))\n",
        "      rewards_thousands = []\n",
        "      rewards_per_hundred.append(reward_per_thousands)\n",
        "    \n",
        "print(\"Score over time: \" + str(sum(rewards)/n_episodes))\n",
        "print(\"Q-Table: \")\n",
        "print(q_table)"
      ],
      "execution_count": null,
      "outputs": [
        {
          "output_type": "stream",
          "name": "stdout",
          "text": [
            "Score over 0 episode: 0.0\n",
            "Score over 100 episode: 0.01\n",
            "Score over 200 episode: 0.09\n",
            "Score over 300 episode: 0.24\n",
            "Score over 400 episode: 0.36\n",
            "Score over 500 episode: 0.36\n",
            "Score over 600 episode: 0.57\n",
            "Score over 700 episode: 0.3\n",
            "Score over 800 episode: 0.42\n",
            "Score over 900 episode: 0.27\n",
            "Score over 1000 episode: 0.31\n",
            "Score over 1100 episode: 0.42\n",
            "Score over 1200 episode: 0.39\n",
            "Score over 1300 episode: 0.39\n",
            "Score over 1400 episode: 0.34\n",
            "Score over 1500 episode: 0.36\n",
            "Score over 1600 episode: 0.47\n",
            "Score over 1700 episode: 0.48\n",
            "Score over 1800 episode: 0.68\n",
            "Score over 1900 episode: 0.73\n",
            "Score over 2000 episode: 0.83\n",
            "Score over 2100 episode: 0.77\n",
            "Score over 2200 episode: 0.83\n",
            "Score over 2300 episode: 0.7\n",
            "Score over 2400 episode: 0.78\n",
            "Score over 2500 episode: 0.74\n",
            "Score over 2600 episode: 0.76\n",
            "Score over 2700 episode: 0.78\n",
            "Score over 2800 episode: 0.65\n",
            "Score over 2900 episode: 0.48\n",
            "Score over 3000 episode: 0.61\n",
            "Score over 3100 episode: 0.73\n",
            "Score over 3200 episode: 0.7\n",
            "Score over 3300 episode: 0.78\n",
            "Score over 3400 episode: 0.73\n",
            "Score over 3500 episode: 0.77\n",
            "Score over 3600 episode: 0.62\n",
            "Score over 3700 episode: 0.5\n",
            "Score over 3800 episode: 0.56\n",
            "Score over 3900 episode: 0.46\n",
            "Score over 4000 episode: 0.62\n",
            "Score over 4100 episode: 0.84\n",
            "Score over 4200 episode: 0.76\n",
            "Score over 4300 episode: 0.81\n",
            "Score over 4400 episode: 0.81\n",
            "Score over 4500 episode: 0.87\n",
            "Score over 4600 episode: 0.84\n",
            "Score over 4700 episode: 0.74\n",
            "Score over 4800 episode: 0.6\n",
            "Score over 4900 episode: 0.76\n",
            "Score over 5000 episode: 0.74\n",
            "Score over 5100 episode: 0.67\n",
            "Score over 5200 episode: 0.62\n",
            "Score over 5300 episode: 0.5\n",
            "Score over 5400 episode: 0.39\n",
            "Score over 5500 episode: 0.31\n",
            "Score over 5600 episode: 0.5\n",
            "Score over 5700 episode: 0.28\n",
            "Score over 5800 episode: 0.56\n",
            "Score over 5900 episode: 0.69\n",
            "Score over 6000 episode: 0.79\n",
            "Score over 6100 episode: 0.73\n",
            "Score over 6200 episode: 0.83\n",
            "Score over 6300 episode: 0.88\n",
            "Score over 6400 episode: 0.84\n",
            "Score over 6500 episode: 0.85\n",
            "Score over 6600 episode: 0.81\n",
            "Score over 6700 episode: 0.83\n",
            "Score over 6800 episode: 0.8\n",
            "Score over 6900 episode: 0.93\n",
            "Score over 7000 episode: 0.84\n",
            "Score over 7100 episode: 0.89\n",
            "Score over 7200 episode: 0.81\n",
            "Score over 7300 episode: 0.75\n",
            "Score over 7400 episode: 0.74\n",
            "Score over 7500 episode: 0.85\n",
            "Score over 7600 episode: 0.77\n",
            "Score over 7700 episode: 0.7\n",
            "Score over 7800 episode: 0.53\n",
            "Score over 7900 episode: 0.47\n",
            "Score over 8000 episode: 0.35\n",
            "Score over 8100 episode: 0.2\n",
            "Score over 8200 episode: 0.32\n",
            "Score over 8300 episode: 0.57\n",
            "Score over 8400 episode: 0.61\n",
            "Score over 8500 episode: 0.63\n",
            "Score over 8600 episode: 0.64\n",
            "Score over 8700 episode: 0.82\n",
            "Score over 8800 episode: 0.75\n",
            "Score over 8900 episode: 0.81\n",
            "Score over 9000 episode: 0.68\n",
            "Score over 9100 episode: 0.84\n",
            "Score over 9200 episode: 0.74\n",
            "Score over 9300 episode: 0.69\n",
            "Score over 9400 episode: 0.74\n",
            "Score over 9500 episode: 0.78\n",
            "Score over 9600 episode: 0.63\n",
            "Score over 9700 episode: 0.59\n",
            "Score over 9800 episode: 0.76\n",
            "Score over 9900 episode: 0.72\n",
            "Score over 10000 episode: 0.64\n",
            "Score over time: 0.6303\n",
            "Q-Table: \n",
            "[[ 5.31434952e+00  5.95828793e+00  5.58515812e+00  5.28804740e+00]\n",
            " [ 5.42418332e+00  5.23095459e+00  5.05989733e+00  5.92447610e+00]\n",
            " [ 5.01129917e+00  5.03201974e+00  5.88615358e+00  4.93242704e+00]\n",
            " [ 5.57666704e+00  5.31408857e+00  5.82488430e+00  5.55000340e+00]\n",
            " [ 5.30943907e+00  5.57045655e+00  5.41147799e+00  5.83054470e+00]\n",
            " [ 5.32705574e+00  5.88117078e+00  5.14275800e+00  5.28961477e+00]\n",
            " [ 5.40122444e+00  5.58671612e+00  5.33331644e+00  5.21204985e+00]\n",
            " [ 5.83241452e+00  5.83226494e+00  6.38828239e+00  5.76231029e+00]\n",
            " [ 4.80334545e+00  4.49005622e+00  4.77772087e+00  5.97760470e+00]\n",
            " [ 4.59862041e+00  4.40796651e+00  4.63100553e+00  5.96254976e+00]\n",
            " [ 4.62708666e+00  4.41929817e+00  4.81335035e+00  5.90301232e+00]\n",
            " [ 2.49473137e-04 -1.06635956e+00 -1.81095955e+00  5.85456943e+00]\n",
            " [ 4.57813980e+00  4.29381099e+00  4.55210581e+00  5.81145317e+00]\n",
            " [ 5.08881123e+00  5.83332296e+00  5.31757153e+00  5.16711251e+00]\n",
            " [ 5.64112397e+00  5.77818845e+00  6.23113023e+00  5.54239345e+00]\n",
            " [ 5.62327965e+00  6.63402595e+00  5.61338697e+00  5.91018524e+00]\n",
            " [ 3.12005548e+00  3.02316568e+00  3.31882570e+00  4.73463850e+00]\n",
            " [ 2.80019708e+00  2.80201315e+00  4.27984923e+00  2.81818510e+00]\n",
            " [ 3.59492540e+00 -8.85612220e-01 -1.10915807e+00 -8.67018139e-01]\n",
            " [ 0.00000000e+00  0.00000000e+00  0.00000000e+00  0.00000000e+00]\n",
            " [-2.19728292e+00 -2.31456485e+00  3.58064679e+00 -1.96749854e+00]\n",
            " [-6.98567796e-01 -5.49147454e-01  1.92263732e+00  5.40950890e+00]\n",
            " [ 5.52948940e+00  5.66379892e+00  6.46232025e+00  5.48029923e+00]\n",
            " [ 6.79202188e+00  5.93871592e+00  5.94833943e+00  6.13528411e+00]\n",
            " [ 3.62821771e+00  2.97888785e+00  2.91198132e+00  3.00185322e+00]\n",
            " [ 1.87241079e+00  1.61329939e+00  1.67004371e+00  2.47158581e+00]\n",
            " [-8.24849528e-01 -9.15554272e-01 -7.46917569e-01  7.89149942e-01]\n",
            " [-6.65441275e+00 -5.56736997e+00 -7.70020623e+00 -2.89166838e+00]\n",
            " [ 5.55650462e-02 -4.95643412e+00 -3.52556410e+00 -2.37923521e+00]\n",
            " [ 0.00000000e+00  0.00000000e+00  0.00000000e+00  0.00000000e+00]\n",
            " [ 1.50838506e+00  2.43121514e+00  6.19151358e+00  1.98044413e+00]\n",
            " [ 6.27095505e+00  6.33150761e+00  7.33417826e+00  6.32563516e+00]\n",
            " [ 3.10330131e+00  2.62476258e+00  2.57820773e+00  2.79256251e+00]\n",
            " [-2.91481350e+00 -3.92744822e+00 -2.57866283e+00  1.10789669e+00]\n",
            " [-3.40694989e+00 -6.83699963e+00 -5.83228491e+00 -4.64952958e+00]\n",
            " [ 0.00000000e+00  0.00000000e+00  0.00000000e+00  0.00000000e+00]\n",
            " [-3.05440977e+00 -4.31468405e+00 -9.56888664e-01 -3.48693778e+00]\n",
            " [-4.11771341e+00  3.29443577e-01 -2.79055405e+00 -2.91516512e+00]\n",
            " [-1.48465594e+00 -1.89788392e+00  2.31562381e+00  4.61715931e+00]\n",
            " [ 6.89735642e+00  6.87216192e+00  8.10442773e+00  6.58169338e+00]\n",
            " [ 2.81259287e+00 -2.54477349e-03  2.15775886e-02 -1.79543217e+00]\n",
            " [ 0.00000000e+00  0.00000000e+00  0.00000000e+00  0.00000000e+00]\n",
            " [ 0.00000000e+00  0.00000000e+00  0.00000000e+00  0.00000000e+00]\n",
            " [-8.55812235e+00 -7.24130786e+00 -8.55033201e+00 -8.58365077e+00]\n",
            " [-6.03796519e+00 -6.29879531e+00 -5.72677486e+00 -2.95989288e+00]\n",
            " [-1.89173065e+00 -5.05528139e+00 -5.12723791e+00 -5.33211600e+00]\n",
            " [ 0.00000000e+00  0.00000000e+00  0.00000000e+00  0.00000000e+00]\n",
            " [ 3.34595334e+00  1.09074646e+00  8.87443571e+00  2.32259391e+00]\n",
            " [ 2.59398954e+00 -3.36726978e+00 -9.44788573e-01  1.08387815e+00]\n",
            " [ 0.00000000e+00  0.00000000e+00  0.00000000e+00  0.00000000e+00]\n",
            " [-7.49691523e+00 -7.36260462e+00 -7.44550864e+00 -7.35428677e+00]\n",
            " [-8.30937023e+00 -8.76714952e+00 -8.76469453e+00 -8.70437037e+00]\n",
            " [ 0.00000000e+00  0.00000000e+00  0.00000000e+00  0.00000000e+00]\n",
            " [-3.75507761e+00 -6.67420959e+00 -6.90662355e+00 -7.04461687e+00]\n",
            " [ 0.00000000e+00  0.00000000e+00  0.00000000e+00  0.00000000e+00]\n",
            " [ 1.98253422e+00  5.39344622e+00  9.58855531e+00  2.74052171e+00]\n",
            " [ 2.26841075e+00  1.16200061e+00  9.81875696e-01  1.84155557e+00]\n",
            " [-1.67712788e+00 -1.83531549e-02 -2.06579489e+00 -2.38850539e+00]\n",
            " [-4.29471823e+00 -3.33817410e+00 -4.34014529e+00 -4.58424587e+00]\n",
            " [ 0.00000000e+00  0.00000000e+00  0.00000000e+00  0.00000000e+00]\n",
            " [-6.33927284e+00 -6.30397890e+00 -5.54674192e+00 -6.38076307e+00]\n",
            " [-2.10278513e+00 -1.79381266e+00  4.88642204e-01 -2.13330326e+00]\n",
            " [-3.10449286e-01  5.00445839e+00  8.22745104e-01  1.30000000e-01]\n",
            " [ 0.00000000e+00  0.00000000e+00  0.00000000e+00  0.00000000e+00]]\n"
          ]
        }
      ]
    },
    {
      "cell_type": "code",
      "metadata": {
        "colab": {
          "base_uri": "https://localhost:8080/"
        },
        "id": "tStX89ZtbAuJ",
        "outputId": "b806c3ab-1212-4397-bf3e-25a56138c7d4"
      },
      "source": [
        "env.reset()\n",
        "solved = 0\n",
        "\n",
        "# lets test for 20 episodes and watches how it acts\n",
        "for episode in range(20):\n",
        "    state = env.reset()\n",
        "    step = 0\n",
        "    done = False\n",
        "    print(\"XXXXXXXXXX\")\n",
        "    print(\"Episode: \",episode)\n",
        "    \n",
        "    for step in range(max_steps):\n",
        "        env.render()\n",
        "        print(episode,solved)\n",
        "        clear_output(wait=True)\n",
        "        sleep(0.1)\n",
        "        action = np.argmax(q_table[state,:])\n",
        "        \n",
        "        new_state, reward, done, info = env.step(action)\n",
        "        \n",
        "        if done:\n",
        "            env.render()\n",
        "            print(\"Number of steps taken: \",step)\n",
        "            if reward == 1:\n",
        "                solved += 1\n",
        "                print(\"Solved EP\")\n",
        "            else:\n",
        "                print(\"not Solved\")\n",
        "            sleep(0.2)\n",
        "            break\n",
        "            \n",
        "        state = new_state\n",
        "# clear_output(wait=True)\n",
        "print(str(solved) + \" of 20 is solved\")\n",
        "env.close()\n"
      ],
      "execution_count": null,
      "outputs": [
        {
          "output_type": "stream",
          "name": "stdout",
          "text": [
            "  (Right)\n",
            "SFFFFFFF\n",
            "FFFFFFFF\n",
            "FFFHFFFF\n",
            "FFFFFHFF\n",
            "FFFHFFFF\n",
            "FHHFFFHF\n",
            "FHFFHFHF\n",
            "FFFHFFF\u001b[41mG\u001b[0m\n",
            "Number of steps taken:  156\n",
            "Solved EP\n",
            "17 of 20 is solved\n"
          ]
        }
      ]
    },
    {
      "cell_type": "code",
      "metadata": {
        "id": "Z94vVIY_c-xM",
        "colab": {
          "base_uri": "https://localhost:8080/",
          "height": 336
        },
        "outputId": "b5efb509-81d4-439a-8b9a-215cedd29ace"
      },
      "source": [
        "#reward over a hundered ep should increase as we proceed in the training as the agent know the environment well\n",
        "avg = []\n",
        "for _ in range(0,10001,100):\n",
        "  avg.append(sum(rewards)/n_episodes)\n",
        "plt.figure(figsize=(12,5))\n",
        "plt.title(\"Rewards\")\n",
        "plt.plot(np.arange(0,10001,100),rewards_per_hundred, alpha=0.6, color='green',label=\"reward per hundreds\")\n",
        "plt.plot(np.arange(0,10001,100),avg, alpha=0.6, color='red',label=\"Total Avg reward\")\n",
        "plt.legend()\n",
        "plt.show()"
      ],
      "execution_count": null,
      "outputs": [
        {
          "output_type": "display_data",
          "data": {
            "image/png": "[encoded data removed]",
            "text/plain": [
              "<Figure size 864x360 with 1 Axes>"
            ]
          },
          "metadata": {
            "needs_background": "light"
          }
        }
      ]
    },
    {
      "cell_type": "code",
      "metadata": {
        "id": "cOy0duLRF5wl"
      },
      "source": [],
      "execution_count": null,
      "outputs": []
    }
  ]
}